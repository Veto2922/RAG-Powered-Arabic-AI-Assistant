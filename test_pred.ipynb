{
 "cells": [
  {
   "cell_type": "code",
   "execution_count": 9,
   "metadata": {},
   "outputs": [
    {
     "name": "stderr",
     "output_type": "stream",
     "text": [
      "c:\\Users\\DELL\\AppData\\Local\\Programs\\Python\\Python312\\Lib\\site-packages\\transformers\\tokenization_utils_base.py:1601: FutureWarning: `clean_up_tokenization_spaces` was not set. It will be set to `True` by default. This behavior will be depracted in transformers v4.45, and will be then set to `False` by default. For more details check this issue: https://github.com/huggingface/transformers/issues/31884\n",
      "  warnings.warn(\n"
     ]
    }
   ],
   "source": [
    "# app.py\n",
    "\n",
    "import streamlit as st\n",
    "from models.predict_model import  Predict\n",
    "\n",
    "# Initialize the RAG model\n",
    "predict = Predict()\n",
    "\n",
    "# Define the template\n",
    "template = \"\"\"\n",
    "    انت مساعد ذكي للاشخاص الناطقين باللغة العربيه تساعدهم في معرفة اخر الاخبار في مجالات مثل التكنولوجيا والسياسة والرياضة من الملفات المتاح لك الاطلاع عليها ,وفي نهاية اجابتك اشكر المستخدم واسئله هل لديك اسئلة اخري \n",
    "    \n",
    "knowledge you know:\n",
    "{context}\n",
    "\n",
    "Question: {question}\n",
    "\n",
    "ماذا تفعل إذا لم تكن الإجابة مدرجة في السؤال أو السياق:\n",
    "1. أخبر المستخدم أنك ليس لديك معلومات كافية للاجابة علي سواله\n",
    "2. أخبر المستخدم أنك متخصص في فئات المقالات [الثقافة، والمال، والطب، والسياسة، والدين، والرياضة، والتكنولوجيا] فقط من المواقع الإلكترونية: الخليج، والعربية، وأخبارنا..\n",
    "3. اسأل المستخدم إذا كان لديه المزيد من الأسئلة ليطرحها.\n",
    "4. لا تذكر أي شيء عن السياق.\n",
    "\n",
    "answer:\n",
    "\"\"\"\n",
    "\n",
    "\n",
    "        \n",
    "\n",
    "\n"
   ]
  },
  {
   "cell_type": "code",
   "execution_count": 10,
   "metadata": {},
   "outputs": [
    {
     "data": {
      "text/plain": [
       "'<p>ليس لدي معلومات كافية للإجابة على هذا السؤال، فأنا متخصص فقط في فئات المقالات [الثقافة، والمال، والطب، والسياسة، والدين، والرياضة، والتكنولوجيا] من المواقع الإلكترونية: الخليج، والعربية، وأخبارنا.</p>\\n<p>هل لديك أسئلة أخرى؟</p>'"
      ]
     },
     "execution_count": 10,
     "metadata": {},
     "output_type": "execute_result"
    }
   ],
   "source": [
    "question = 'من هو رئيس مصر؟'\n",
    "predict.get_answer(template, question)"
   ]
  },
  {
   "cell_type": "code",
   "execution_count": null,
   "metadata": {},
   "outputs": [],
   "source": []
  }
 ],
 "metadata": {
  "kernelspec": {
   "display_name": "Python 3",
   "language": "python",
   "name": "python3"
  },
  "language_info": {
   "codemirror_mode": {
    "name": "ipython",
    "version": 3
   },
   "file_extension": ".py",
   "mimetype": "text/x-python",
   "name": "python",
   "nbconvert_exporter": "python",
   "pygments_lexer": "ipython3",
   "version": "3.12.4"
  }
 },
 "nbformat": 4,
 "nbformat_minor": 2
}
