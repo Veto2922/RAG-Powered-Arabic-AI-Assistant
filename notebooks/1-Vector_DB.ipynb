{
 "cells": [
  {
   "cell_type": "code",
   "execution_count": 2,
   "metadata": {},
   "outputs": [],
   "source": [
    "TECH_FOLDER_PATH = r'D:\\Projects\\RAG-Powered-Arabic-AI-Assistant\\data\\raw\\Tech'\n",
    "CULTURE_FOLDER_PATH = r'D:\\Projects\\RAG-Powered-Arabic-AI-Assistant\\data\\raw\\Culture'\n",
    "Finance_FOLDER_PATH = r'D:\\Projects\\RAG-Powered-Arabic-AI-Assistant\\data\\raw\\Finance'\n",
    "Medical_FOLDER_PATH = r'D:\\Projects\\RAG-Powered-Arabic-AI-Assistant\\data\\raw\\Medical'\n",
    "politics_FOLDER_PATH = r'D:\\Projects\\RAG-Powered-Arabic-AI-Assistant\\data\\raw\\Politics'\n",
    "Religion_FOLDER_PATH = r'D:\\Projects\\RAG-Powered-Arabic-AI-Assistant\\data\\raw\\Religion'\n",
    "Sports_FOLDER_PATH = r'D:\\Projects\\RAG-Powered-Arabic-AI-Assistant\\data\\raw\\Sports'\n",
    "\n",
    "DOC_DIRECTORY = r'D:\\Projects\\RAG-Powered-Arabic-AI-Assistant\\data\\processed\\all_split.pkl'\n",
    "Sample_DIRECTORY = r'D:\\Projects\\RAG-Powered-Arabic-AI-Assistant\\data\\processed\\sys_sample.pkl'\n",
    "\n",
    "\n",
    "# Specify the directory where you want to save the vector database\n",
    "PERSIST_DIRECTORY = r'D:\\Projects\\RAG-Powered-Arabic-AI-Assistant\\data\\processed\\sample_vector_db2'"
   ]
  },
  {
   "cell_type": "code",
   "execution_count": 28,
   "metadata": {},
   "outputs": [],
   "source": [
    "import os\n",
    "import pickle\n",
    "from sentence_transformers import SentenceTransformer\n",
    "from langchain_chroma import Chroma\n",
    "from langchain.docstore.document import Document\n",
    "from tqdm import tqdm  # Import tqdm for the progress bar\n",
    "\n",
    "\n",
    "\n"
   ]
  },
  {
   "cell_type": "markdown",
   "metadata": {},
   "source": [
    "# Functions"
   ]
  },
  {
   "cell_type": "code",
   "execution_count": 4,
   "metadata": {},
   "outputs": [],
   "source": [
    "\n",
    "def read_text_files_in_folder(folders_paths: list):\n",
    "    \"\"\"\n",
    "    Reads text files from multiple folders and returns a list of Document objects.\n",
    "\n",
    "    Args:\n",
    "        folders_paths (list): A list of folder paths containing text files.\n",
    "\n",
    "    Returns:\n",
    "        all_docs (list): A list of Document objects, where each document contains\n",
    "                         the text content of a file and its metadata with the file path.\n",
    "\n",
    "    The function iterates over each folder in the provided list of folder paths. It reads\n",
    "    all `.txt` files within each folder, creates a Document object for each file with the\n",
    "    text content and the file's metadata, and appends it to the list of documents.\n",
    "    A progress bar is displayed for each folder to indicate the processing status.\n",
    "    \"\"\"\n",
    "    all_docs = []\n",
    "    for folder_path in folders_paths:\n",
    "        # Use tqdm to add a progress bar around the list of files\n",
    "        for file_name in tqdm(os.listdir(folder_path), desc=f\"Processing {os.path.basename(folder_path)}\"):\n",
    "            if file_name.endswith('.txt'):\n",
    "                file_path = os.path.join(folder_path, file_name)\n",
    "                with open(file_path, 'r', encoding='utf-8') as file:\n",
    "                    text = file.read()\n",
    "                    # Create a Document object for each text\n",
    "                    doc = Document(page_content=text, metadata={\"source\": file_path})\n",
    "                    all_docs.append(doc)\n",
    "    return all_docs\n",
    "\n",
    "# ----------------------------------------------------------------\n",
    "\n",
    "\n",
    "\n",
    "def create_chroma_batches(documents, embedding_model, persist_directory, batch_size=5000):\n",
    "    \"\"\"\n",
    "    Processes documents in batches and creates a Chroma vector store with embeddings.\n",
    "\n",
    "    Args:\n",
    "        documents (list): A list of Document objects to be processed.\n",
    "        embedding_model (SentenceTransformer): The embedding model used to generate embeddings for the documents.\n",
    "        persist_directory (str): The directory where the Chroma vector store will be persisted.\n",
    "        batch_size (int, optional): The maximum number of documents to process in each batch. Default is 5000.\n",
    "\n",
    "    Returns:\n",
    "        chroma_instance (Chroma): The Chroma vector store instance containing the embedded documents.\n",
    "\n",
    "    The function splits the documents into smaller batches and processes each batch to create\n",
    "    a Chroma vector store with embeddings. A progress bar is used to show the progress of batch processing.\n",
    "    If a Chroma instance does not exist, it is created with the first batch. Subsequent batches are added\n",
    "    to the existing Chroma instance.\n",
    "    \"\"\"\n",
    "    chroma_instance = None\n",
    "\n",
    "    # Initialize the progress bar\n",
    "    num_batches = len(documents) // batch_size + int(len(documents) % batch_size != 0)\n",
    "    with tqdm(total=num_batches, desc=\"Processing batches\", unit=\"batch\") as pbar:\n",
    "        # Process documents in batches\n",
    "        for i in range(0, len(documents), batch_size):\n",
    "            batch = documents[i:i + batch_size]\n",
    "            \n",
    "            if chroma_instance is None:\n",
    "                # Create a new Chroma instance with the first batch\n",
    "                chroma_instance = Chroma.from_documents(\n",
    "                    documents=batch,\n",
    "                    embedding=embedding_model,\n",
    "                    persist_directory=persist_directory\n",
    "                )\n",
    "            else:\n",
    "                # Add the batch to the existing Chroma instance\n",
    "                chroma_instance.add_documents(documents=batch)\n",
    "            \n",
    "            # Update the progress bar\n",
    "            pbar.update(1)\n",
    "\n",
    "    return chroma_instance\n"
   ]
  },
  {
   "cell_type": "markdown",
   "metadata": {},
   "source": [
    "all-MiniLM-L12-v2\n",
    "\n",
    "- Average Performance: 59.76\n",
    "- Speed: 7500 (fast)\n",
    "- Model Size: 120 MB\n",
    "- Strengths: High average performance with a good balance between speed and model size."
   ]
  },
  {
   "cell_type": "code",
   "execution_count": 9,
   "metadata": {},
   "outputs": [
    {
     "name": "stderr",
     "output_type": "stream",
     "text": [
      "c:\\Users\\DELL\\AppData\\Local\\Programs\\Python\\Python312\\Lib\\site-packages\\transformers\\tokenization_utils_base.py:1601: FutureWarning: `clean_up_tokenization_spaces` was not set. It will be set to `True` by default. This behavior will be depracted in transformers v4.45, and will be then set to `False` by default. For more details check this issue: https://github.com/huggingface/transformers/issues/31884\n",
      "  warnings.warn(\n"
     ]
    }
   ],
   "source": [
    "# Initialize the model \n",
    "model = SentenceTransformer('all-MiniLM-L12-v2')\n",
    "\n",
    "class embedding:\n",
    "    def __init__(self):\n",
    "        self.model = model\n",
    "    def embed_documents(self , docs):\n",
    "        embeddings = self.model.encode(docs)\n",
    "        return embeddings.tolist()\n",
    "    \n",
    "    def embed_query(self , query):\n",
    "        return self.model.encode(query).tolist()"
   ]
  },
  {
   "cell_type": "markdown",
   "metadata": {},
   "source": [
    "------"
   ]
  },
  {
   "cell_type": "markdown",
   "metadata": {},
   "source": [
    "# Load the data"
   ]
  },
  {
   "cell_type": "markdown",
   "metadata": {},
   "source": [
    "### Because the data already split into small pieces and each base in different file so we don't need to chunk them"
   ]
  },
  {
   "cell_type": "code",
   "execution_count": 6,
   "metadata": {},
   "outputs": [
    {
     "data": {
      "text/plain": [
       "['D:\\\\Projects\\\\RAG-Powered-Arabic-AI-Assistant\\\\data\\\\raw\\\\Tech',\n",
       " 'D:\\\\Projects\\\\RAG-Powered-Arabic-AI-Assistant\\\\data\\\\raw\\\\Culture',\n",
       " 'D:\\\\Projects\\\\RAG-Powered-Arabic-AI-Assistant\\\\data\\\\raw\\\\Finance',\n",
       " 'D:\\\\Projects\\\\RAG-Powered-Arabic-AI-Assistant\\\\data\\\\raw\\\\Medical',\n",
       " 'D:\\\\Projects\\\\RAG-Powered-Arabic-AI-Assistant\\\\data\\\\raw\\\\Politics',\n",
       " 'D:\\\\Projects\\\\RAG-Powered-Arabic-AI-Assistant\\\\data\\\\raw\\\\Sports',\n",
       " 'D:\\\\Projects\\\\RAG-Powered-Arabic-AI-Assistant\\\\data\\\\raw\\\\Religion']"
      ]
     },
     "execution_count": 6,
     "metadata": {},
     "output_type": "execute_result"
    }
   ],
   "source": [
    "folders_paths = [TECH_FOLDER_PATH ,\n",
    "                 CULTURE_FOLDER_PATH , \n",
    "                 Finance_FOLDER_PATH , \n",
    "                 Medical_FOLDER_PATH,\n",
    "                 politics_FOLDER_PATH ,\n",
    "                 Sports_FOLDER_PATH, \n",
    "                 Religion_FOLDER_PATH \n",
    "                 ]\n",
    "folders_paths"
   ]
  },
  {
   "cell_type": "code",
   "execution_count": 7,
   "metadata": {},
   "outputs": [
    {
     "name": "stderr",
     "output_type": "stream",
     "text": [
      "Processing Tech: 100%|██████████| 6500/6500 [00:04<00:00, 1400.61it/s]\n",
      "Processing Culture: 100%|██████████| 6500/6500 [00:04<00:00, 1373.10it/s]\n",
      "Processing Finance: 100%|██████████| 6500/6500 [00:03<00:00, 1641.94it/s]\n",
      "Processing Medical: 100%|██████████| 6500/6500 [00:04<00:00, 1485.44it/s]\n",
      "Processing Politics: 100%|██████████| 6500/6500 [00:05<00:00, 1298.86it/s]\n",
      "Processing Sports: 100%|██████████| 6500/6500 [00:05<00:00, 1242.34it/s]\n",
      "Processing Religion: 100%|██████████| 6500/6500 [00:06<00:00, 1034.93it/s]\n"
     ]
    }
   ],
   "source": [
    "all_split =  read_text_files_in_folder(folders_paths)"
   ]
  },
  {
   "cell_type": "markdown",
   "metadata": {},
   "source": [
    "### store all doc"
   ]
  },
  {
   "cell_type": "code",
   "execution_count": 8,
   "metadata": {},
   "outputs": [],
   "source": [
    "import pickle\n",
    "\n",
    "# Save the all_split list to a file\n",
    "with open(DOC_DIRECTORY, 'wb') as f:\n",
    "    pickle.dump(all_split, f)"
   ]
  },
  {
   "cell_type": "code",
   "execution_count": 7,
   "metadata": {},
   "outputs": [],
   "source": [
    "\n",
    "\n",
    "# Load the all_split list from the file\n",
    "with open(DOC_DIRECTORY, 'rb') as f:\n",
    "    all_split = pickle.load(f)"
   ]
  },
  {
   "cell_type": "code",
   "execution_count": 8,
   "metadata": {},
   "outputs": [
    {
     "name": "stdout",
     "output_type": "stream",
     "text": [
      "Total documents: 45500\n"
     ]
    }
   ],
   "source": [
    "print(f\"Total documents: {len(all_split)}\")"
   ]
  },
  {
   "cell_type": "code",
   "execution_count": 7,
   "metadata": {},
   "outputs": [
    {
     "data": {
      "text/plain": [
       "45493"
      ]
     },
     "execution_count": 7,
     "metadata": {},
     "output_type": "execute_result"
    }
   ],
   "source": [
    "6499 * 7"
   ]
  },
  {
   "cell_type": "markdown",
   "metadata": {},
   "source": [
    "### for The limited resources and time i will use Systematic sampling to take samples from all categories"
   ]
  },
  {
   "cell_type": "code",
   "execution_count": 15,
   "metadata": {},
   "outputs": [],
   "source": [
    "sys_sampling =  all_split[: : 6]"
   ]
  },
  {
   "cell_type": "code",
   "execution_count": 20,
   "metadata": {},
   "outputs": [],
   "source": [
    "import pickle\n",
    "\n",
    "# Save the all_split list to a file\n",
    "with open(Sample_DIRECTORY, 'wb') as f:\n",
    "    pickle.dump(sys_sampling, f)"
   ]
  },
  {
   "cell_type": "code",
   "execution_count": 12,
   "metadata": {},
   "outputs": [],
   "source": [
    "with open(Sample_DIRECTORY, 'rb') as f:\n",
    "    sys_sampling = pickle.load(f)"
   ]
  },
  {
   "cell_type": "markdown",
   "metadata": {},
   "source": [
    "# Embedding"
   ]
  },
  {
   "cell_type": "code",
   "execution_count": 10,
   "metadata": {},
   "outputs": [
    {
     "data": {
      "text/plain": [
       "384"
      ]
     },
     "execution_count": 10,
     "metadata": {},
     "output_type": "execute_result"
    }
   ],
   "source": [
    "embed_model = embedding()\n",
    "\n",
    "len(embed_model.embed_query('مرحبا بك'))"
   ]
  },
  {
   "cell_type": "markdown",
   "metadata": {},
   "source": [
    "# Vector DataBase"
   ]
  },
  {
   "cell_type": "markdown",
   "metadata": {},
   "source": [
    "### Chroma maximum batch size 41666 so we will take 41666 record only "
   ]
  },
  {
   "cell_type": "code",
   "execution_count": 12,
   "metadata": {},
   "outputs": [],
   "source": [
    "all_split = sys_sampling"
   ]
  },
  {
   "cell_type": "code",
   "execution_count": 13,
   "metadata": {},
   "outputs": [
    {
     "data": {
      "text/plain": [
       "7584"
      ]
     },
     "execution_count": 13,
     "metadata": {},
     "output_type": "execute_result"
    }
   ],
   "source": [
    "len(all_split)"
   ]
  },
  {
   "cell_type": "code",
   "execution_count": 17,
   "metadata": {},
   "outputs": [
    {
     "name": "stderr",
     "output_type": "stream",
     "text": [
      "Processing batches: 100%|██████████| 380/380 [13:55<00:00,  2.20s/batch]\n"
     ]
    }
   ],
   "source": [
    "# Process your documents in smaller batches with a progress bar\n",
    "vector_data = create_chroma_batches(\n",
    "    documents=all_split,\n",
    "    embedding_model=embed_model,\n",
    "    persist_directory=PERSIST_DIRECTORY,\n",
    "    batch_size=20  # Set a batch size within the limit\n",
    ")\n"
   ]
  },
  {
   "cell_type": "code",
   "execution_count": 19,
   "metadata": {},
   "outputs": [
    {
     "data": {
      "text/plain": [
       "'دبي - مدحت السويفي:قال أحمد الخطيب، المؤسس والرئيس التنفيذي لموقع \"ماركة في آي بي\" في تصريحات خاصة ل\"الخليج\"، إنّ الشركة تعتبر من أكبر الشركات في مجال بيع الأزياء والإكسسوارات والعلامات التجارية الفاخرة عبر الانترنت، حيث تستحوذ الشركة على نسبة تقدر ب 50% عبر مبيعات \"الأون لاين\" لهذا القطاع تحديداً. أشار الخطيب، إلى أن إجمالي حجم قطاع تجارة التجزئة في منطقة الشرق الأوسط يقدر ب 425 مليار دولار، إلا أن حصة التسويق الالكتروني بالمنطقة منها لا يتجاوز ال 10 مليارات دولار بنسبة تتحرك في دائرة ال 2%، في الوقت الذي تبلغ فيه حصة هذه السوق الإلكترونية في أسواق أوروبا وأمريكا بنسبة تتراوح ما بين 15 و25%، وبحسب دراسات لمؤسسات دولية موثقة عن القطاع، وهو ما يشير إلى أن السوق ما زالت في طور التكوين وأن المستقبل واعد أمام هذا القطاع .وأوضح الخطيب، أن الشركة تحقق مبيعات مطردة من فترة لأخرى، فمنذ بداية العام الجاري حققت الشركة زيادة في مبيعات تقدر ب 100%، لافتاً إلى أن الشركة تضاعف مبيعاتها كل أربعة أشهر اعتماداً على اتساع قاعدة العملاء الذين يرغبون بالتسوق الإلكتروني، إضافة للانتشار الكبير للهواتف الذكية والتي تشكل مبيعات الشركة من خلالها ما يقدر ب 66% من حجم الطلبات الكلية التي ترد إلى الشركة .واستشهد الخطيب، على زيادة الاهتمام بالتسوق بشكل عام وبالتسوق عبر موقع ماركة \"في آي بي\" بعدد من الأدلة، حيث أشار إلى أن عدد المشتركين على الموقع وصل إلى 5 .4 مليون مشترك، فضلاً على 2 .1 مليون معجب على صفحة التواصل الاجتماعي في موقع \"الفيس بوك\" . وعن الإنفاق الترويجي للمواقع الإلكتروني قال إنه يقدر بالملايين شهرياً، وإننا نتعاون مع كبريات الشركات عالمياً للترويج مثل \"غوغل\" و\"الفيس بوك\" حتى يصل منتجنا إلى الجميع، مشيراً إلى أن الشركة تنفق ما بين 500 ألف دولار ومليوني دولار شهرياً . الخصومات وأشار الخطيب، إلى أن الشركة تهدف من خلال استراتيجيتها النهائية واتفاقياتها مع الموزعين المعتمدين إلى خدمة المستهلك النهائي، فمعظم الخصومات في الموقع تدور في حدود ال 50%، مشيراً إلى أن لدى الشركة شبكة معتمدة من الموزعين المحليين والعالميين وتعاقدات مع معظم العلامات التجارية العالمية .ولفت الخطيب، إلى أن السوق الإماراتية من أقوى الأسواق من ناحية تبني التكنولوجيا الحديثة فهي سوق متطورة جداً، إضافة إلى أنها من أكثر الأسواق معرفة بالعلامات التجارية، ولكن تعتبر السوق السعودية الأولى من حيث المبيعات، حيث تستحوذ على حصة تقدر ب 40% وتأتي في المرتبة الثانية السوق الإماراتية بحصة تقدر ب 30%، وباقي الحصص تتوزع على باقي منطقة الخليج ولبنان .وأضاف أن الشركة تخطط إلى الدخول في منطقة شمال إفريقيا وتعتبر السوق المصرية الأقرب لنا في هذه الفترة، مؤكداً أن الكثافة السكانية في السوق المصرية سوف تعود بمردود إيجابي على الرغم من انخفاض القوة الشرائية في الوقت الحالي لهذه الأسواق بسبب الوضع الاقتصادي لأسواق الربيع العربي كلها بلا استثناء . أسطول خاص كما أننا نعتبر من أوائل الشركات التي يخدمها أسطول خاص بها، حيث نقوم بتوصيل ما يقرب من 50% من شحنات عبر أسطولنا، منوهاً إلى أن عدد الشحنات التي تقوم بتوصيلها الشركة لعملائها تتراوح ما بين 50 و60 ألف طلب شهرياً .وعن استغلال العلامة التجارية في فتح متاجر خاصة بماركة \"في آي بي\" قال الخطيب، إن استثمارات الشركة تصب في قطاع \"الأون لاين\"، ولكن لا مانع من استغلال العلامة التجارية في فتح مراكز لخدمة العملاء، وفي هذا السياق أيضاً توفر خيارات الدفع بطرق متعددة، كما أن لدينا سياسة استرجاع مرنة تمتد ل 21 يوماً . تطبيق الشركة على الأجهزة الذكية يتم تحميله 10 آلاف مرة يومياً قال أحمد الخطيب، إن تطبيق الشركة الأكثر تحميلاً في هذا القطاع، وذلك على المتاجر الإلكترونية ففي اليوم الواحد يتم تحميل التطبيق أكثر من 10 آلاف مرة تقريباً، تحديداً في هذه الفترة، وهو ما يعتبر دليلاً على اتساع السوق خاصة مع زيادة عدد حاملي الهواتف الذكية في المنطقة العربية .'"
      ]
     },
     "execution_count": 19,
     "metadata": {},
     "output_type": "execute_result"
    }
   ],
   "source": [
    "reteiever = vector_data.as_retriever(search_type = 'similarity' , search_kwargs= {'k' : 2})\n",
    "all_split[1].page_content"
   ]
  },
  {
   "cell_type": "code",
   "execution_count": 22,
   "metadata": {},
   "outputs": [
    {
     "data": {
      "text/plain": [
       "'أقر مجلس إدارة شركة اتصالات دي بي تغيير مسمى شركة سوان تيليكوم التي تأسست بموجب اتفاقية شراكة بين كل من اتصالات وشركة دي بي للتطوير العقاري ليصبح مسمى الشركة الجديد اتصالات دي بي تيليكوم الهند الخاصة المحدودة، وتتخذ من مومباي في الهند مقراً لها . كانت شركة اتصالات دي بي تيليكوم الهند الخاصة المحدودة قد حصلت على رخصة تزويد خدمات الاتصال العالمية الموحدة في 15 دائرة هندية هي اندرا براديش ودلهي وكوجارات وهاريانا كارنكاتا وكيرلا ومهراشترا ومومباي والبنجاب وراجستان وتاميل نادو(بما فيها تشيناي) واوتاربراديش (شرق) واتار براديش (غرب) ومديا يراديش وبيهار .وستتمكن الشركة بفضل هذه الرخصة من توفير مجموعة شاملة من خدمات الاتصالات لما يزيد على 900 مليون شخص في مختلف مناطق الهند . وتتضمن الخدمات الحلول الهاتفية للمكالمات المحلية والدولية ومجموعة كبيرة من خدمات الدفع المسبق وخدمات الدفع المفوترة وخدمات التجوال المحلية والدولية ومجموعة كبيرة من خدمات القيمة المضافة التي تتضمن البريد الصوتي وخدمات اديويتكس وخدمات التواصل عبر الفيديو والفيديوتكس والبريد الإلكتروني وخدمات التواصل بين المجموعات وبموجب الترخيص الممنوح ستتمكن الشركة من توفير خدمات الاتصال عبر الانترنت وخدمات الانترنت وخدمات النطاق العريض . تعمل اتصالات في 17 بلداً على امتداد قارتي آسيا وإفريقيا، وتقدم خدماتها لأكثر من 80 مليون مشترك من بين عدد سكان كلي يصل إلى 8 .1 مليار نسمة . وتمكنت منذ إنشائها عام 1976 من ترسيخ موقعها الريادي في عالم الاتصالات وإرساء بنية تحتية متطورة لقطاع الاتصالات ومن احتلال مكانة مرموقة بين نظرائها في القطاع بفضل تميزها المستمر وقدراتها الكبيرة على الابتكار في تقديم أفضل الخدمات وأحدث حلول الاتصالات الصوتية المتنقلة، وخدمة الرسائل النصية القصيرة المتميزة، ورسائل الوسائط المتعددة، وتعتبر أكبر ناقل للبيانات الصوتية في الشرق الأوسط وشمال إفريقيا، كما توفر خدمتي بلاك بيري وآي فون، وحلول المقاسم الخاصة المتنقلة وغيرها من خدمات الاتصالات . وسجلت اتصالات في عام 2008 أرباحاً صافية للمجموعة بلغت قيمتها 665 .8 مليار درهم، مقارنة مع 297 .7 مليار درهم في العام ،2007 بنسبة نمو بلغت 19% . كما حققت المجموعة نموا في الإيرادات الموحدة خلال العام 2008 وصلت إلى 119 .26 مليار درهم .وقد دخلت اتصالات الهند التي تعد إحدى أكبر أسواق الاتصالات في العالم في خطوة أظهرت التوجه المتوازن الذي تتبناه اتصالات في استثماراتها في كل من غرب وجنوب آسيا وفي إفريقيا التي تتسم أسواقها بارتفاع إمكانات النمو، ويعتبر دخول اتصالات السوق الهندية مكملا لاستثماراتها الإقليمية الأخرى في باكستان وأفغانستان وإندونيسيا وتتسم جميعها بكونها من أسرع الأسواق نموا في مجال الاتصالات الهاتفية .'"
      ]
     },
     "execution_count": 22,
     "metadata": {},
     "output_type": "execute_result"
    }
   ],
   "source": [
    "# Later, you can load the database like this:\n",
    "loaded_vector_data = Chroma(\n",
    "    persist_directory=PERSIST_DIRECTORY,\n",
    "    embedding_function = embed_model\n",
    ")\n",
    "reteiever = loaded_vector_data.as_retriever(search_type = 'similarity' , search_kwargs= {'k' : 3})\n",
    "sys_sampling[8].page_content"
   ]
  },
  {
   "cell_type": "code",
   "execution_count": 23,
   "metadata": {},
   "outputs": [
    {
     "data": {
      "text/plain": [
       "[Document(metadata={'source': 'D:\\\\Projects\\\\RAG-Powered-Arabic-AI-Assistant\\\\data\\\\raw\\\\Tech\\\\0048.txt'}, page_content='أقر مجلس إدارة شركة اتصالات دي بي تغيير مسمى شركة سوان تيليكوم التي تأسست بموجب اتفاقية شراكة بين كل من اتصالات وشركة دي بي للتطوير العقاري ليصبح مسمى الشركة الجديد اتصالات دي بي تيليكوم الهند الخاصة المحدودة، وتتخذ من مومباي في الهند مقراً لها . كانت شركة اتصالات دي بي تيليكوم الهند الخاصة المحدودة قد حصلت على رخصة تزويد خدمات الاتصال العالمية الموحدة في 15 دائرة هندية هي اندرا براديش ودلهي وكوجارات وهاريانا كارنكاتا وكيرلا ومهراشترا ومومباي والبنجاب وراجستان وتاميل نادو(بما فيها تشيناي) واوتاربراديش (شرق) واتار براديش (غرب) ومديا يراديش وبيهار .وستتمكن الشركة بفضل هذه الرخصة من توفير مجموعة شاملة من خدمات الاتصالات لما يزيد على 900 مليون شخص في مختلف مناطق الهند . وتتضمن الخدمات الحلول الهاتفية للمكالمات المحلية والدولية ومجموعة كبيرة من خدمات الدفع المسبق وخدمات الدفع المفوترة وخدمات التجوال المحلية والدولية ومجموعة كبيرة من خدمات القيمة المضافة التي تتضمن البريد الصوتي وخدمات اديويتكس وخدمات التواصل عبر الفيديو والفيديوتكس والبريد الإلكتروني وخدمات التواصل بين المجموعات وبموجب الترخيص الممنوح ستتمكن الشركة من توفير خدمات الاتصال عبر الانترنت وخدمات الانترنت وخدمات النطاق العريض . تعمل اتصالات في 17 بلداً على امتداد قارتي آسيا وإفريقيا، وتقدم خدماتها لأكثر من 80 مليون مشترك من بين عدد سكان كلي يصل إلى 8 .1 مليار نسمة . وتمكنت منذ إنشائها عام 1976 من ترسيخ موقعها الريادي في عالم الاتصالات وإرساء بنية تحتية متطورة لقطاع الاتصالات ومن احتلال مكانة مرموقة بين نظرائها في القطاع بفضل تميزها المستمر وقدراتها الكبيرة على الابتكار في تقديم أفضل الخدمات وأحدث حلول الاتصالات الصوتية المتنقلة، وخدمة الرسائل النصية القصيرة المتميزة، ورسائل الوسائط المتعددة، وتعتبر أكبر ناقل للبيانات الصوتية في الشرق الأوسط وشمال إفريقيا، كما توفر خدمتي بلاك بيري وآي فون، وحلول المقاسم الخاصة المتنقلة وغيرها من خدمات الاتصالات . وسجلت اتصالات في عام 2008 أرباحاً صافية للمجموعة بلغت قيمتها 665 .8 مليار درهم، مقارنة مع 297 .7 مليار درهم في العام ،2007 بنسبة نمو بلغت 19% . كما حققت المجموعة نموا في الإيرادات الموحدة خلال العام 2008 وصلت إلى 119 .26 مليار درهم .وقد دخلت اتصالات الهند التي تعد إحدى أكبر أسواق الاتصالات في العالم في خطوة أظهرت التوجه المتوازن الذي تتبناه اتصالات في استثماراتها في كل من غرب وجنوب آسيا وفي إفريقيا التي تتسم أسواقها بارتفاع إمكانات النمو، ويعتبر دخول اتصالات السوق الهندية مكملا لاستثماراتها الإقليمية الأخرى في باكستان وأفغانستان وإندونيسيا وتتسم جميعها بكونها من أسرع الأسواق نموا في مجال الاتصالات الهاتفية .'),\n",
       " Document(metadata={'source': 'D:\\\\Projects\\\\RAG-Powered-Arabic-AI-Assistant\\\\data\\\\raw\\\\Sports\\\\2942.txt'}, page_content='كشفت تقارير عن تجنب السلطات اليابانية بالكاد أزمة مياه في العاصمة طوكيو، وذلك بعد تهافت الملايين من اليابانيين إلى الحمام بين شوطي مباراة المنتخب أمام كولومبيا يوم الثلاثاء الماضي. وذكرت الصحف اليابانية أن استهلاك المياه ارتفع بنسبة 24 في المئة عن المعدل الطبيعي بين الشوطين، ثم ارتفع بنسبة 50 في المئة بعد صافرة النهاية، التي أعلنت فوز اليابان على كولومبيا وعلقت مسؤولة: «نعتقد أن الكثير من المشجعين أجلوا الذهاب إلى الحمام من شدة حماسهم، ثم ذهبوا جميعاً دفعة واحدة، تعلمنا من الدرس وسوف نكون مستعدين لمواجهة الطلب الشديد على المياه في مباراة الأحد أمام السنغال». وشاهد معظم سكان اليابان ال127 مليون مباراة فوز الساموراي على كولومبيا 2-1، ووصل معدل المشاهدة في البلاد إلى 48.7 في المئة، متفوقاً على عدد مشاهدي فوز المتزلج يزورو هانيو بالميدالية الذهبية في فبراير/ شباط الماضي (33.9 في المئة).'),\n",
       " Document(metadata={'source': 'D:\\\\Projects\\\\RAG-Powered-Arabic-AI-Assistant\\\\data\\\\raw\\\\Sports\\\\2456.txt'}, page_content='يعود أيتور كارانكا مساعد مورينيو سابقاً في ريال مدريد لرؤية المدرب البرتغالي في عاصمة أخرى بعد ورود تقارير تفيد بترشيحه لتولي تدريب فريق كريستال بالاس اللندني الذي يبتعد عن ذيل الترتيب في الدوري الممتاز بمركز واحد ويرتدي لاعبوه قميصاً يحمل ألوان برشلونة .تأسس كريستال بالاس عام 1905 لكنه رغم عراقته لا يملك سوى 4 نقاط في البطولة ولم يسجل سوى 6 أهداف هذا الموسم وتلقت شباكه 21 هدفاً، والفريق بلا مدرب منذ 20 أكتوبر/تشرين الأول الماضي بعد إقالة إيان هولواي، وفي حال أعلن تعيين كارانكا ستكون مباراته الأولى أمام هال سيتي وسيواجه أستاذه مورينيو في 14 ديسمبر/كانون الأول المقبل .')]"
      ]
     },
     "execution_count": 23,
     "metadata": {},
     "output_type": "execute_result"
    }
   ],
   "source": [
    "reteiever.invoke(\"أقر مجلس إدارة شركة اتصالات دي بي تغيير مسمى شركة سوان تيليكوم التي تأسست بموجب اتفاقية شراكة بين كل من \")\n"
   ]
  }
 ],
 "metadata": {
  "kernelspec": {
   "display_name": "Python 3",
   "language": "python",
   "name": "python3"
  },
  "language_info": {
   "codemirror_mode": {
    "name": "ipython",
    "version": 3
   },
   "file_extension": ".py",
   "mimetype": "text/x-python",
   "name": "python",
   "nbconvert_exporter": "python",
   "pygments_lexer": "ipython3",
   "version": "3.12.4"
  }
 },
 "nbformat": 4,
 "nbformat_minor": 2
}
